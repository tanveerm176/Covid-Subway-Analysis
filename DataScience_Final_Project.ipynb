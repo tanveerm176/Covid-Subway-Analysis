{
 "cells": [
  {
   "cell_type": "markdown",
   "metadata": {},
   "source": [
    "### Import Python Libraries"
   ]
  },
  {
   "cell_type": "code",
   "execution_count": null,
   "metadata": {},
   "outputs": [],
   "source": [
    "import numpy as np\n",
    "import pandas as pd\n",
    "import matplotlib.pyplot as plt\n",
    "import seaborn as sns\n",
    "import datetime as dt\n",
    "from scipy import stats\n",
    "from seaborn.utils import ci"
   ]
  },
  {
   "cell_type": "markdown",
   "metadata": {},
   "source": [
    "### Create DataFrames "
   ]
  },
  {
   "cell_type": "code",
   "execution_count": null,
   "metadata": {},
   "outputs": [],
   "source": [
    "dailyCovidCases = pd.read_csv(\"./data/case-data-by-day.csv\")\n",
    "dailyVaccinations = pd.read_csv(\"./data/vaccine-doses-by-day.csv\")\n",
    "dailyRidership = pd.read_csv(\"./data/MTA_Daily_Ridership_Data__Beginning_2020.csv\")"
   ]
  },
  {
   "cell_type": "markdown",
   "metadata": {},
   "source": [
    "### EDA"
   ]
  },
  {
   "cell_type": "code",
   "execution_count": null,
   "metadata": {},
   "outputs": [],
   "source": [
    "dailyRidership[\"Date\"].dtype"
   ]
  },
  {
   "cell_type": "code",
   "execution_count": null,
   "metadata": {},
   "outputs": [],
   "source": [
    "dailyRidership[\"Date\"] = pd.to_datetime(dailyRidership[\"Date\"])\n",
    "dailyVaccinations[\"Date\"] = pd.to_datetime(dailyVaccinations[\"DATE\"])\n",
    "dailyCovidCases[\"Date\"] = pd.to_datetime(dailyCovidCases[\"date_of_interest\"])\n"
   ]
  },
  {
   "cell_type": "markdown",
   "metadata": {},
   "source": [
    "#### MTA ridership was sorted in most recent date first "
   ]
  },
  {
   "cell_type": "code",
   "execution_count": null,
   "metadata": {},
   "outputs": [],
   "source": [
    "dailyRidership.sort_values(by=\"Date\",inplace=True,ascending=True)\n",
    "dailyRidership.reset_index(drop=True, inplace=True)"
   ]
  },
  {
   "cell_type": "markdown",
   "metadata": {},
   "source": [
    "#### Original ridership graph - no changes"
   ]
  },
  {
   "cell_type": "code",
   "execution_count": null,
   "metadata": {},
   "outputs": [],
   "source": [
    "fig3, ax3 = plt.subplots(figsize=(14,7))\n",
    "ax3=sns.lineplot(x=dailyRidership[\"Date\"].dt.strftime('%m-%d-%Y'), \n",
    "                  y=dailyRidership[\"Subways: Total Estimated Ridership\"], \n",
    "                  palette=[\"r\"]\n",
    "                  )\n",
    "ax3.set_xticklabels(ax3.get_xticklabels(), rotation=40, ha=\"right\")\n",
    "ax3.ticklabel_format(axis='y', style='plain')\n",
    "\n",
    "\n",
    "for index, tickLabel in enumerate(ax3.get_xticklabels()):\n",
    "    if index%40==0:\n",
    "        tickLabel.set_visible(True)\n",
    "    else:\n",
    "        tickLabel.set_visible(False)\n",
    "        \n",
    "for index, tick in enumerate(ax3.get_xticklines()):\n",
    "    if index%40==0:\n",
    "        tick.set_visible(True)\n",
    "    else:\n",
    "        tick.set_visible(False)\n",
    "        \n",
    "ax3.grid(True,axis='y')"
   ]
  },
  {
   "cell_type": "markdown",
   "metadata": {},
   "source": [
    "### Remove Weekend data"
   ]
  },
  {
   "cell_type": "code",
   "execution_count": 7,
   "metadata": {},
   "outputs": [],
   "source": [
    "riders_df = dailyRidership[['Date','Subways: Total Estimated Ridership']]"
   ]
  },
  {
   "cell_type": "code",
   "execution_count": null,
   "metadata": {},
   "outputs": [],
   "source": [
    "riders_df_filtered = riders_df[~riders_df['Date'].dt.weekday.isin([5,6])]\n",
    "riders_df_filtered.reset_index(drop=True, inplace=True)\n",
    "riders_df_filtered.info()\n"
   ]
  },
  {
   "cell_type": "code",
   "execution_count": null,
   "metadata": {},
   "outputs": [],
   "source": [
    "fig3, ax3 = plt.subplots(figsize=(14,7))\n",
    "ax3=sns.lineplot(x=riders_df_filtered[\"Date\"].dt.strftime('%m-%d-%Y'), \n",
    "                  y=riders_df_filtered[\"Subways: Total Estimated Ridership\"], \n",
    "                  palette=[\"r\"]\n",
    "                  )\n",
    "ax3.set_xticklabels(ax3.get_xticklabels(), rotation=40, ha=\"right\")\n",
    "ax3.ticklabel_format(axis='y', style='plain')\n",
    "\n",
    "\n",
    "for index, tickLabel in enumerate(ax3.get_xticklabels()):\n",
    "    if index%40==0:\n",
    "        tickLabel.set_visible(True)\n",
    "    else:\n",
    "        tickLabel.set_visible(False)\n",
    "        \n",
    "for index, tick in enumerate(ax3.get_xticklines()):\n",
    "    if index%40==0:\n",
    "        tick.set_visible(True)\n",
    "    else:\n",
    "        tick.set_visible(False)\n",
    "        \n",
    "ax3.grid(True,axis='y')"
   ]
  },
  {
   "cell_type": "markdown",
   "metadata": {},
   "source": [
    "### 7 day rolling average"
   ]
  },
  {
   "cell_type": "code",
   "execution_count": 8,
   "metadata": {},
   "outputs": [],
   "source": [
    "riders_avg = riders_df.copy()\n"
   ]
  },
  {
   "cell_type": "code",
   "execution_count": null,
   "metadata": {},
   "outputs": [],
   "source": [
    "riders_avg.head()"
   ]
  },
  {
   "cell_type": "code",
   "execution_count": 9,
   "metadata": {},
   "outputs": [],
   "source": [
    "riders_avg[\"7 day avg\"] = riders_avg[\"Subways: Total Estimated Ridership\"].rolling(window=7).mean()"
   ]
  },
  {
   "cell_type": "code",
   "execution_count": null,
   "metadata": {},
   "outputs": [],
   "source": [
    "fig3, ax3 = plt.subplots(figsize=(14,7))\n",
    "ax3=sns.lineplot(x=riders_avg[\"Date\"], \n",
    "                  y=riders_avg[\"7 day avg\"], \n",
    "                #   color='red'\n",
    "                  )\n",
    "ax3.set_xticklabels(ax3.get_xticklabels(), rotation=40, ha=\"right\")\n",
    "ax3.ticklabel_format(axis='y', style='plain')\n",
    "ax3.set_ylabel('Ridership (7 Day Avg)')\n",
    "ax3.set_title('Ridership over Time', fontsize=16)\n",
    "\n",
    "\n",
    "# for index, tickLabel in enumerate(ax3.get_xticklabels()):\n",
    "#     if index%40==0:\n",
    "#         tickLabel.set_visible(True)\n",
    "#     else:\n",
    "#         tickLabel.set_visible(False)\n",
    "        \n",
    "# for index, tick in enumerate(ax3.get_xticklines()):\n",
    "#     if index%40==0:\n",
    "#         tick.set_visible(True)\n",
    "#     else:\n",
    "#         tick.set_visible(False)\n",
    "        \n",
    "ax3.grid(True,axis='y')\n",
    "\n",
    "# ax3.xaxis.set_major_locator(mdates.AutoDateLocator())\n",
    "# ax3.xaxis.set_major_formatter(mdates.DateFormatter('%Y-%m-%d'))"
   ]
  },
  {
   "cell_type": "markdown",
   "metadata": {},
   "source": [
    "### 7 day avg for cases"
   ]
  },
  {
   "cell_type": "code",
   "execution_count": null,
   "metadata": {},
   "outputs": [],
   "source": [
    "cases_df = dailyCovidCases[['Date', 'CASE_COUNT']]\n",
    "\n",
    "cases_df['7 day avg'] = cases_df['CASE_COUNT'].rolling(window=7).mean()\n",
    "cases_df.head(10)"
   ]
  },
  {
   "cell_type": "code",
   "execution_count": null,
   "metadata": {},
   "outputs": [],
   "source": [
    "fig1, ax1 = plt.subplots(figsize=(14,7))\n",
    "ax1 = sns.lineplot(x=cases_df[\"Date\"].dt.strftime('%m-%d-%Y'), \n",
    "                  y=cases_df[\"7 day avg\"], \n",
    "                  color='orangered',\n",
    "                  )\n",
    "\n",
    "ax1.set_xticklabels(ax1.get_xticklabels(), rotation=40, ha=\"right\")\n",
    "ax1.ticklabel_format(axis='y', style='plain')\n",
    "ax1.set_ylabel('Case Count (7 Day Avg)')\n",
    "ax1.set_title('Cases over Time', fontsize=16)\n",
    "\n",
    "for index, tickLabel in enumerate(ax1.get_xticklabels()):\n",
    "    if index%40==0:\n",
    "        tickLabel.set_visible(True)\n",
    "    else:\n",
    "        tickLabel.set_visible(False)\n",
    "        \n",
    "for index, tick in enumerate(ax1.get_xticklines()):\n",
    "    if index%40==0:\n",
    "        tick.set_visible(True)\n",
    "    else:\n",
    "        tick.set_visible(False)\n",
    "\n",
    "ax1.grid(True,axis='y')"
   ]
  },
  {
   "cell_type": "code",
   "execution_count": null,
   "metadata": {},
   "outputs": [],
   "source": [
    "plt.figure(figsize=(17,7))\n",
    "sns.lineplot(x=cases_df[\"Date\"].dt.strftime('%m-%d-%Y'), \n",
    "                  y=cases_df[\"7 day avg\"], \n",
    "                  color='red',\n",
    "                  )\n",
    "ax5 = plt.gca()\n",
    "ax5.set_xticklabels(ax5.get_xticklabels(), rotation=40, ha=\"right\")\n",
    "ax5.ticklabel_format(axis='y', style='plain')\n",
    "ax5.set_xlabel('Date', fontsize=12)\n",
    "ax5.set_ylabel('Case Count (7 Day Avg)', fontsize=12, color=\"red\")\n",
    "ax5.set_title('Ridership and Cases over Time', fontsize=16)\n",
    "\n",
    "for index, tickLabel in enumerate(ax5.get_xticklabels()):\n",
    "    if index%40==0:\n",
    "        tickLabel.set_visible(True)\n",
    "    else:\n",
    "        tickLabel.set_visible(False)\n",
    "        \n",
    "for index, tick in enumerate(ax5.get_xticklines()):\n",
    "    if index%40==0:\n",
    "        tick.set_visible(True)\n",
    "    else:\n",
    "        tick.set_visible(False)\n",
    "\n",
    "ax5.grid(True,axis='y')\n",
    "\n",
    "ax6 = ax5.twinx()\n",
    "sns.lineplot(x=riders_avg[\"Date\"].dt.strftime('%m-%d-%Y'), y=riders_avg[\"7 day avg\"], \n",
    "              ax=ax6, \n",
    "            #   join=True, \n",
    "            #   scale=0.3, \n",
    "              color='blue'\n",
    "              )\n",
    "ax6.ticklabel_format(axis='y', style='plain')\n",
    "ax6.set_ylabel('Ridership (7 Day Avg)', fontsize=12, color=\"blue\")\n",
    "\n",
    "plt.show()"
   ]
  },
  {
   "cell_type": "markdown",
   "metadata": {},
   "source": [
    "#### original graph - move higher to show learning frm raw data vs 7 day avg"
   ]
  },
  {
   "cell_type": "code",
   "execution_count": null,
   "metadata": {},
   "outputs": [],
   "source": [
    "fig, ax1 = plt.subplots(figsize=(14,7))\n",
    "ax1 = sns.barplot(x=dailyCovidCases[\"Date\"].dt.strftime('%m-%d-%Y'), \n",
    "                  y=dailyCovidCases[\"CASE_COUNT\"], \n",
    "                  palette=[\"r\"]\n",
    "                  )\n",
    "ax1.set_title('Daily Case Count vs Daily Ridership', fontsize=16)\n",
    "ax1.set_xticklabels(ax1.get_xticklabels(), rotation=40, ha=\"right\")\n",
    "ax1.set_xlabel('Date', fontsize=16)\n",
    "ax1.set_ylabel('Daily Case Count', fontsize=16, color=\"tab:red\")\n",
    "\n",
    "\n",
    "ax2 = ax1.twinx()\n",
    "ax2 = sns.lineplot(x=dailyRidership[\"Date\"].dt.strftime('%m-%d-%Y'),\n",
    "                    y=dailyRidership[\"Subways: Total Estimated Ridership\"], \n",
    "                    color=\"blue\",\n",
    "                    # join=True,\n",
    "                    # scale=0.3\n",
    "                    )\n",
    "ax2.set_ylabel('Daily Ridership', fontsize=16, color=\"blue\")\n",
    "\n",
    "for index, tick in enumerate(ax1.get_xticklabels()):\n",
    "    if index%40==0:\n",
    "        tick.set_visible(True)\n",
    "    else:\n",
    "        tick.set_visible(False)\n",
    "        \n",
    "for index, tick in enumerate(ax3.get_xticklines()):\n",
    "    if index%40==0:\n",
    "        tick.set_visible(True)\n",
    "    else:\n",
    "        tick.set_visible(False)\n",
    "        \n",
    "ax3.grid(True,axis='y')"
   ]
  },
  {
   "cell_type": "markdown",
   "metadata": {},
   "source": [
    "## Vaccines over TIme with ridership NEED TO FIX\n"
   ]
  },
  {
   "cell_type": "code",
   "execution_count": null,
   "metadata": {},
   "outputs": [],
   "source": [
    "fig3, ax3 = plt.subplots(figsize=(14,7))\n",
    "ax3=sns.lineplot(x=dailyVaccinations[\"Date\"].dt.strftime('%m-%d-%Y'), \n",
    "                  y=dailyVaccinations[\"ADMIN_ALLDOSES_7DAYAVG\"], \n",
    "                  palette=[\"r\"]\n",
    "                  )\n",
    "ax3.set_xticklabels(ax3.get_xticklabels(), rotation=40, ha=\"right\")\n",
    "ax3.ticklabel_format(axis='y', style='plain')\n",
    "\n",
    "\n",
    "for index, tickLabel in enumerate(ax3.get_xticklabels()):\n",
    "    if index%20==0:\n",
    "        tickLabel.set_visible(True)\n",
    "    else:\n",
    "        tickLabel.set_visible(False)\n",
    "        \n",
    "for index, tick in enumerate(ax3.get_xticklines()):\n",
    "    if index%40==0:\n",
    "        tick.set_visible(True)\n",
    "    else:\n",
    "        tick.set_visible(False)\n",
    "        "
   ]
  },
  {
   "cell_type": "code",
   "execution_count": null,
   "metadata": {},
   "outputs": [],
   "source": [
    "plt.figure(figsize=(17,7))\n",
    "sns.lineplot(x=riders_avg[\"Date\"].dt.strftime('%m-%d-%Y'), \n",
    "                  y=riders_avg[\"7 day avg\"], \n",
    "                  color='red',\n",
    "                  )\n",
    "ax5 = plt.gca()\n",
    "ax5.set_xticklabels(ax5.get_xticklabels(), rotation=40, ha=\"right\")\n",
    "ax5.ticklabel_format(axis='y', style='plain')\n",
    "ax5.set_xlabel('Date', fontsize=12)\n",
    "ax5.set_ylabel('Case Count (7 Day Avg)', fontsize=12, color=\"red\")\n",
    "ax5.set_title('Ridership and Cases over Time', fontsize=16)\n",
    "\n",
    "for index, tickLabel in enumerate(ax5.get_xticklabels()):\n",
    "    if index%40==0:\n",
    "        tickLabel.set_visible(True)\n",
    "    else:\n",
    "        tickLabel.set_visible(False)\n",
    "        \n",
    "for index, tick in enumerate(ax5.get_xticklines()):\n",
    "    if index%40==0:\n",
    "        tick.set_visible(True)\n",
    "    else:\n",
    "        tick.set_visible(False)\n",
    "\n",
    "ax5.grid(True,axis='y')\n",
    "\n",
    "ax6 = ax5.twinx()\n",
    "sns.lineplot(x=riders_avg[\"Date\"].dt.strftime('%m-%d-%Y'), y=dailyVaccinations[\"ADMIN_ALLDOSES_7DAYAVG\"], \n",
    "              ax=ax6, \n",
    "            #   join=True, \n",
    "            #   scale=0.3, \n",
    "              color='blue'\n",
    "              )\n",
    "ax6.ticklabel_format(axis='y', style='plain')\n",
    "ax6.set_ylabel('Ridership (7 Day Avg)', fontsize=12, color=\"blue\")\n",
    "\n",
    "plt.show()"
   ]
  },
  {
   "cell_type": "markdown",
   "metadata": {},
   "source": [
    "### Fixing Vaccination df"
   ]
  },
  {
   "cell_type": "code",
   "execution_count": 11,
   "metadata": {},
   "outputs": [
    {
     "data": {
      "text/html": [
       "<div>\n",
       "<style scoped>\n",
       "    .dataframe tbody tr th:only-of-type {\n",
       "        vertical-align: middle;\n",
       "    }\n",
       "\n",
       "    .dataframe tbody tr th {\n",
       "        vertical-align: top;\n",
       "    }\n",
       "\n",
       "    .dataframe thead th {\n",
       "        text-align: right;\n",
       "    }\n",
       "</style>\n",
       "<table border=\"1\" class=\"dataframe\">\n",
       "  <thead>\n",
       "    <tr style=\"text-align: right;\">\n",
       "      <th></th>\n",
       "      <th>Date</th>\n",
       "      <th>Subways: Total Estimated Ridership</th>\n",
       "      <th>7 day avg</th>\n",
       "    </tr>\n",
       "  </thead>\n",
       "  <tbody>\n",
       "    <tr>\n",
       "      <th>0</th>\n",
       "      <td>2020-03-01</td>\n",
       "      <td>2212965</td>\n",
       "      <td>NaN</td>\n",
       "    </tr>\n",
       "    <tr>\n",
       "      <th>1</th>\n",
       "      <td>2020-03-02</td>\n",
       "      <td>5329915</td>\n",
       "      <td>NaN</td>\n",
       "    </tr>\n",
       "    <tr>\n",
       "      <th>2</th>\n",
       "      <td>2020-03-03</td>\n",
       "      <td>5481103</td>\n",
       "      <td>NaN</td>\n",
       "    </tr>\n",
       "    <tr>\n",
       "      <th>3</th>\n",
       "      <td>2020-03-04</td>\n",
       "      <td>5498809</td>\n",
       "      <td>NaN</td>\n",
       "    </tr>\n",
       "    <tr>\n",
       "      <th>4</th>\n",
       "      <td>2020-03-05</td>\n",
       "      <td>5496453</td>\n",
       "      <td>NaN</td>\n",
       "    </tr>\n",
       "    <tr>\n",
       "      <th>5</th>\n",
       "      <td>2020-03-06</td>\n",
       "      <td>5189447</td>\n",
       "      <td>NaN</td>\n",
       "    </tr>\n",
       "    <tr>\n",
       "      <th>6</th>\n",
       "      <td>2020-03-07</td>\n",
       "      <td>2814637</td>\n",
       "      <td>4.574761e+06</td>\n",
       "    </tr>\n",
       "    <tr>\n",
       "      <th>7</th>\n",
       "      <td>2020-03-08</td>\n",
       "      <td>2120656</td>\n",
       "      <td>4.561574e+06</td>\n",
       "    </tr>\n",
       "    <tr>\n",
       "      <th>8</th>\n",
       "      <td>2020-03-09</td>\n",
       "      <td>4973513</td>\n",
       "      <td>4.510660e+06</td>\n",
       "    </tr>\n",
       "    <tr>\n",
       "      <th>9</th>\n",
       "      <td>2020-03-10</td>\n",
       "      <td>4867818</td>\n",
       "      <td>4.423048e+06</td>\n",
       "    </tr>\n",
       "  </tbody>\n",
       "</table>\n",
       "</div>"
      ],
      "text/plain": [
       "        Date  Subways: Total Estimated Ridership     7 day avg\n",
       "0 2020-03-01                             2212965           NaN\n",
       "1 2020-03-02                             5329915           NaN\n",
       "2 2020-03-03                             5481103           NaN\n",
       "3 2020-03-04                             5498809           NaN\n",
       "4 2020-03-05                             5496453           NaN\n",
       "5 2020-03-06                             5189447           NaN\n",
       "6 2020-03-07                             2814637  4.574761e+06\n",
       "7 2020-03-08                             2120656  4.561574e+06\n",
       "8 2020-03-09                             4973513  4.510660e+06\n",
       "9 2020-03-10                             4867818  4.423048e+06"
      ]
     },
     "execution_count": 11,
     "metadata": {},
     "output_type": "execute_result"
    }
   ],
   "source": [
    "riders_vaccines = riders_avg.copy()\n",
    "riders_vaccines.head(10)\n"
   ]
  },
  {
   "cell_type": "code",
   "execution_count": null,
   "metadata": {},
   "outputs": [],
   "source": [
    "riders_vaccines.drop(columns=\"Subways: Total Estimated Ridership\",inplace=True)"
   ]
  },
  {
   "cell_type": "code",
   "execution_count": null,
   "metadata": {},
   "outputs": [],
   "source": [
    "riders_vaccines.head()"
   ]
  },
  {
   "cell_type": "code",
   "execution_count": 12,
   "metadata": {},
   "outputs": [],
   "source": [
    "rider_filter = riders_vaccines[riders_vaccines[\"Date\"] >= dailyVaccinations[\"Date\"].min()]\n"
   ]
  },
  {
   "cell_type": "code",
   "execution_count": 13,
   "metadata": {},
   "outputs": [
    {
     "data": {
      "text/html": [
       "<div>\n",
       "<style scoped>\n",
       "    .dataframe tbody tr th:only-of-type {\n",
       "        vertical-align: middle;\n",
       "    }\n",
       "\n",
       "    .dataframe tbody tr th {\n",
       "        vertical-align: top;\n",
       "    }\n",
       "\n",
       "    .dataframe thead th {\n",
       "        text-align: right;\n",
       "    }\n",
       "</style>\n",
       "<table border=\"1\" class=\"dataframe\">\n",
       "  <thead>\n",
       "    <tr style=\"text-align: right;\">\n",
       "      <th></th>\n",
       "      <th>Date</th>\n",
       "      <th>Subways: Total Estimated Ridership</th>\n",
       "      <th>7 day avg</th>\n",
       "    </tr>\n",
       "  </thead>\n",
       "  <tbody>\n",
       "    <tr>\n",
       "      <th>288</th>\n",
       "      <td>2020-12-14</td>\n",
       "      <td>1584089</td>\n",
       "      <td>1.482475e+06</td>\n",
       "    </tr>\n",
       "    <tr>\n",
       "      <th>289</th>\n",
       "      <td>2020-12-15</td>\n",
       "      <td>1783388</td>\n",
       "      <td>1.517117e+06</td>\n",
       "    </tr>\n",
       "    <tr>\n",
       "      <th>290</th>\n",
       "      <td>2020-12-16</td>\n",
       "      <td>1569079</td>\n",
       "      <td>1.498139e+06</td>\n",
       "    </tr>\n",
       "    <tr>\n",
       "      <th>291</th>\n",
       "      <td>2020-12-17</td>\n",
       "      <td>1079818</td>\n",
       "      <td>1.400779e+06</td>\n",
       "    </tr>\n",
       "    <tr>\n",
       "      <th>292</th>\n",
       "      <td>2020-12-18</td>\n",
       "      <td>1735664</td>\n",
       "      <td>1.393547e+06</td>\n",
       "    </tr>\n",
       "  </tbody>\n",
       "</table>\n",
       "</div>"
      ],
      "text/plain": [
       "          Date  Subways: Total Estimated Ridership     7 day avg\n",
       "288 2020-12-14                             1584089  1.482475e+06\n",
       "289 2020-12-15                             1783388  1.517117e+06\n",
       "290 2020-12-16                             1569079  1.498139e+06\n",
       "291 2020-12-17                             1079818  1.400779e+06\n",
       "292 2020-12-18                             1735664  1.393547e+06"
      ]
     },
     "execution_count": 13,
     "metadata": {},
     "output_type": "execute_result"
    }
   ],
   "source": [
    "rider_filter.head()"
   ]
  },
  {
   "cell_type": "code",
   "execution_count": null,
   "metadata": {},
   "outputs": [],
   "source": [
    "plt.figure(figsize=(17,7))\n",
    "sns.lineplot(x=rider_filter[\"Date\"].dt.strftime('%m-%d-%Y'), \n",
    "                  y=rider_filter[\"7 day avg\"], \n",
    "                  color='red',\n",
    "                  )\n",
    "ax5 = plt.gca()\n",
    "ax5.set_xticklabels(ax5.get_xticklabels(), rotation=40, ha=\"right\")\n",
    "ax5.ticklabel_format(axis='y', style='plain')\n",
    "ax5.set_xlabel('Date', fontsize=12)\n",
    "ax5.set_ylabel('Ridership (7 Day Avg)', fontsize=12, color=\"red\")\n",
    "ax5.set_title('Vaccines and Ridership over Time', fontsize=16)\n",
    "\n",
    "for index, tickLabel in enumerate(ax5.get_xticklabels()):\n",
    "    if index%40==0:\n",
    "        tickLabel.set_visible(True)\n",
    "    else:\n",
    "        tickLabel.set_visible(False)\n",
    "        \n",
    "for index, tick in enumerate(ax5.get_xticklines()):\n",
    "    if index%40==0:\n",
    "        tick.set_visible(True)\n",
    "    else:\n",
    "        tick.set_visible(False)\n",
    "\n",
    "ax5.grid(True,axis='y')\n",
    "\n",
    "ax6 = ax5.twinx()\n",
    "sns.lineplot(x=dailyVaccinations[\"Date\"].dt.strftime('%m-%d-%Y'), y=dailyVaccinations[\"ADMIN_ALLDOSES_7DAYAVG\"], \n",
    "              ax=ax6, \n",
    "            #   join=True, \n",
    "            #   scale=0.3, \n",
    "              color='blue'\n",
    "              )\n",
    "ax6.ticklabel_format(axis='y', style='plain')\n",
    "ax6.set_ylabel('Vaccinatins (7 Day Avg)', fontsize=12, color=\"blue\")\n",
    "\n",
    "plt.show()"
   ]
  },
  {
   "cell_type": "markdown",
   "metadata": {},
   "source": [
    "## Corr Plots"
   ]
  },
  {
   "cell_type": "code",
   "execution_count": null,
   "metadata": {},
   "outputs": [],
   "source": []
  },
  {
   "cell_type": "code",
   "execution_count": 18,
   "metadata": {},
   "outputs": [],
   "source": [
    "corr_df = pd.DataFrame()\n",
    "corr_df[\"dailyRiders\"] = rider_filter[\"7 day avg\"]\n",
    "corr_df[\"cases\"] = dailyCovidCases[\"CASE_COUNT_7DAY_AVG\"]\n",
    "corr_df[\"vaccines\"] = dailyVaccinations[\"ADMIN_ALLDOSES_7DAYAVG\"]"
   ]
  },
  {
   "cell_type": "code",
   "execution_count": 26,
   "metadata": {},
   "outputs": [
    {
     "data": {
      "image/png": "[encoded data removed]",
      "text/plain": [
       "<Figure size 640x480 with 2 Axes>"
      ]
     },
     "metadata": {},
     "output_type": "display_data"
    }
   ],
   "source": [
    "corrPlot = sns.heatmap(corr_df.corr(), annot = True, robust=True)\n",
    "corrPlot.set_title(\"Correlation Matrix: Ridership, Cases, Vaccinations\")\n",
    "\n",
    "plt.show()"
   ]
  },
  {
   "cell_type": "code",
   "execution_count": 29,
   "metadata": {},
   "outputs": [
    {
     "data": {
      "text/plain": [
       "-0.72"
      ]
     },
     "execution_count": 29,
     "metadata": {},
     "output_type": "execute_result"
    }
   ],
   "source": [
    "rider_filter[\"7 day avg\"].corr(dailyCovidCases[\"CASE_COUNT_7DAY_AVG\"]).round(2)"
   ]
  },
  {
   "cell_type": "code",
   "execution_count": 27,
   "metadata": {},
   "outputs": [
    {
     "data": {
      "text/plain": [
       "0.2"
      ]
     },
     "execution_count": 27,
     "metadata": {},
     "output_type": "execute_result"
    }
   ],
   "source": [
    "rider_filter[\"7 day avg\"].corr(dailyVaccinations[\"ADMIN_ALLDOSES_7DAYAVG\"]).round(2)"
   ]
  },
  {
   "cell_type": "code",
   "execution_count": 28,
   "metadata": {},
   "outputs": [
    {
     "data": {
      "text/plain": [
       "-0.29"
      ]
     },
     "execution_count": 28,
     "metadata": {},
     "output_type": "execute_result"
    }
   ],
   "source": [
    "dailyCovidCases[\"CASE_COUNT_7DAY_AVG\"].corr(dailyVaccinations[\"ADMIN_ALLDOSES_7DAYAVG\"]).round(2)"
   ]
  },
  {
   "cell_type": "code",
   "execution_count": null,
   "metadata": {},
   "outputs": [],
   "source": [
    "#Run linear regression and plot for each Cases/Ridership and Vaccinations/Ridership\n",
    "slope,intercept, r_value, p_value, std_err = stats.linregress(\n",
    "    dailyCovidCases.loc[1:,\"CASE_COUNT\"],\n",
    "    dailyRidership[\"Subways: Total Estimated Ridership\"]\n",
    "    )\n",
    "plt.scatter(dailyCovidCases.loc[1:,\"CASE_COUNT\"],dailyRidership[\"Subways: Total Estimated Ridership\"])\n",
    "plt.plot(dailyCovidCases.loc[1:,\"CASE_COUNT\"], \n",
    "         slope*dailyCovidCases.loc[1:,\"CASE_COUNT\"] + intercept, color='red', label='Linear Regression')\n",
    "plt.show()"
   ]
  },
  {
   "cell_type": "code",
   "execution_count": 16,
   "metadata": {},
   "outputs": [
    {
     "data": {
      "text/plain": [
       "<Axes: xlabel='CASE_COUNT', ylabel='Subways: Total Estimated Ridership'>"
      ]
     },
     "execution_count": 16,
     "metadata": {},
     "output_type": "execute_result"
    },
    {
     "data": {
      "image/png": "[encoded data removed]",
      "text/plain": [
       "<Figure size 640x480 with 1 Axes>"
      ]
     },
     "metadata": {},
     "output_type": "display_data"
    }
   ],
   "source": [
    "sns.regplot(\n",
    "    x=dailyCovidCases.loc[1:,\"CASE_COUNT\"],\n",
    "    y=dailyRidership[\"Subways: Total Estimated Ridership\"],\n",
    "    line_kws=dict(color=\"r\"),\n",
    "    marker='x'\n",
    "    )"
   ]
  },
  {
   "cell_type": "code",
   "execution_count": null,
   "metadata": {},
   "outputs": [],
   "source": []
  },
  {
   "cell_type": "code",
   "execution_count": null,
   "metadata": {},
   "outputs": [],
   "source": []
  }
 ],
 "metadata": {
  "kernelspec": {
   "display_name": "base",
   "language": "python",
   "name": "python3"
  },
  "language_info": {
   "codemirror_mode": {
    "name": "ipython",
    "version": 3
   },
   "file_extension": ".py",
   "mimetype": "text/x-python",
   "name": "python",
   "nbconvert_exporter": "python",
   "pygments_lexer": "ipython3",
   "version": "3.11.7"
  }
 },
 "nbformat": 4,
 "nbformat_minor": 2
}
